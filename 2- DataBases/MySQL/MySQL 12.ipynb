{
 "cells": [
  {
   "cell_type": "markdown",
   "metadata": {},
   "source": [
    "# Diffrence Between Fetchone and Fetchall method"
   ]
  },
  {
   "cell_type": "code",
   "execution_count": 1,
   "metadata": {},
   "outputs": [
    {
     "name": "stdout",
     "output_type": "stream",
     "text": [
      "<mysql.connector.connection.MySQLConnection object at 0x00000190724F4B70>\n"
     ]
    }
   ],
   "source": [
    "import mysql.connector\n",
    "\n",
    "con1 = mysql.connector.connect(\n",
    "    host=\"localhost\",\n",
    "    user=\"root\",\n",
    "    passwd=\"\",\n",
    "    database=\"mydatabase\"\n",
    ")\n",
    "print(con1)"
   ]
  },
  {
   "cell_type": "code",
   "execution_count": 2,
   "metadata": {},
   "outputs": [
    {
     "name": "stdout",
     "output_type": "stream",
     "text": [
      "(1, 'John', 'Highway 21', 'john.krohn@icloud.com')\n"
     ]
    }
   ],
   "source": [
    "mycursor = con1.cursor()\n",
    "\n",
    "mycursor.execute(\"SELECT * FROM customers\")\n",
    "\n",
    "myresult = mycursor.fetchone()\n",
    "\n",
    "print(myresult) "
   ]
  },
  {
   "cell_type": "code",
   "execution_count": 3,
   "metadata": {},
   "outputs": [
    {
     "name": "stdout",
     "output_type": "stream",
     "text": [
      "(2, 'Peter', 'Lowstreet 4', None)\n"
     ]
    }
   ],
   "source": [
    "myresult = mycursor.fetchone()\n",
    "print(myresult)"
   ]
  },
  {
   "cell_type": "code",
   "execution_count": 4,
   "metadata": {},
   "outputs": [
    {
     "name": "stdout",
     "output_type": "stream",
     "text": [
      "(3, 'Amy', 'Apple st 652', None)\n",
      "(4, 'Hannah', 'Mountain 21', None)\n",
      "(5, 'Michael', 'Valley 345', None)\n",
      "(6, 'Sandy', 'Ocean blvd 2', None)\n"
     ]
    }
   ],
   "source": [
    "myresult = mycursor.fetchone()\n",
    "print(myresult)\n",
    "myresult = mycursor.fetchone()\n",
    "print(myresult)\n",
    "myresult = mycursor.fetchone()\n",
    "print(myresult)\n",
    "myresult = mycursor.fetchone()\n",
    "print(myresult)"
   ]
  },
  {
   "cell_type": "code",
   "execution_count": 5,
   "metadata": {},
   "outputs": [
    {
     "name": "stdout",
     "output_type": "stream",
     "text": [
      "(7, 'Betty', 'Green Grass 1', None)\n",
      "(8, 'Richard', 'Sky st 331', None)\n",
      "(9, 'Susan', 'One way 98', None)\n",
      "(10, 'Vicky', 'Yellow Garden 2', None)\n",
      "(11, 'Ben', 'Park Lane 38', None)\n",
      "(12, 'William', 'Central st 954', None)\n",
      "(13, 'Chuck', 'Main Road 989', None)\n",
      "(14, 'Viola', 'Sideway 1633', None)\n",
      "(15, 'Michelle', 'Blue Village', None)\n"
     ]
    }
   ],
   "source": [
    "myresult = mycursor.fetchall()\n",
    "for row in myresult:\n",
    "    print(row)"
   ]
  }
 ],
 "metadata": {
  "kernelspec": {
   "display_name": "Python 3",
   "language": "python",
   "name": "python3"
  },
  "language_info": {
   "codemirror_mode": {
    "name": "ipython",
    "version": 3
   },
   "file_extension": ".py",
   "mimetype": "text/x-python",
   "name": "python",
   "nbconvert_exporter": "python",
   "pygments_lexer": "ipython3",
   "version": "3.7.3"
  }
 },
 "nbformat": 4,
 "nbformat_minor": 2
}
