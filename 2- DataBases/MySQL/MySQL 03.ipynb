{
 "cells": [
  {
   "cell_type": "markdown",
   "metadata": {},
   "source": [
    "# Checking if a DATABASE exists."
   ]
  },
  {
   "cell_type": "code",
   "execution_count": 1,
   "metadata": {},
   "outputs": [],
   "source": [
    "import mysql.connector"
   ]
  },
  {
   "cell_type": "code",
   "execution_count": 2,
   "metadata": {},
   "outputs": [
    {
     "name": "stdout",
     "output_type": "stream",
     "text": [
      "<mysql.connector.connection.MySQLConnection object at 0x0000025A8FE5EA90>\n"
     ]
    }
   ],
   "source": [
    "con1 = mysql.connector.connect(\n",
    "    host=\"localhost\",\n",
    "    user=\"root\",\n",
    "    passwd=\"\"\n",
    ")\n",
    "print(con1)"
   ]
  },
  {
   "cell_type": "code",
   "execution_count": 3,
   "metadata": {},
   "outputs": [],
   "source": [
    "myCursor = con1.cursor()\n",
    "\n",
    "myCursor.execute(\"SHOW DATABASES\")\n",
    "\n",
    "dbName = \"mydatabase\"\n",
    "\n",
    "flag = False\n",
    "for db in myCursor:\n",
    "    if db[0] == dbName:\n",
    "        flag = True\n",
    "        print(\"DataBase Exists.\")"
   ]
  },
  {
   "cell_type": "code",
   "execution_count": 4,
   "metadata": {},
   "outputs": [
    {
     "name": "stdout",
     "output_type": "stream",
     "text": [
      "DataBase 'mydatabase' Created.\n",
      "New Connection Established\n",
      "<mysql.connector.connection.MySQLConnection object at 0x0000025A900012E8>\n"
     ]
    }
   ],
   "source": [
    "if flag:\n",
    "    con1 = mysql.connector.connect(host=\"localhost\",user=\"root\",passwd=\"\",database=\"mydatabase\")\n",
    "    print(con1)\n",
    "else:\n",
    "    myCursor.execute(\"CREATE DATABASE mydatabase\")\n",
    "    print(\"DataBase 'mydatabase' Created.\")\n",
    "    con1 = mysql.connector.connect(host=\"localhost\",user=\"root\",passwd=\"\",database=\"mydatabase\")\n",
    "    print(\"New Connection Established\")\n",
    "    print(con1)"
   ]
  }
 ],
 "metadata": {
  "kernelspec": {
   "display_name": "Python 3",
   "language": "python",
   "name": "python3"
  },
  "language_info": {
   "codemirror_mode": {
    "name": "ipython",
    "version": 3
   },
   "file_extension": ".py",
   "mimetype": "text/x-python",
   "name": "python",
   "nbconvert_exporter": "python",
   "pygments_lexer": "ipython3",
   "version": "3.7.3"
  }
 },
 "nbformat": 4,
 "nbformat_minor": 2
}
