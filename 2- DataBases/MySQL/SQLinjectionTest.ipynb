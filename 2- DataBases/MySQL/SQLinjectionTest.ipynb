{
 "cells": [
  {
   "cell_type": "code",
   "execution_count": 1,
   "metadata": {},
   "outputs": [
    {
     "name": "stdout",
     "output_type": "stream",
     "text": [
      "<mysql.connector.connection.MySQLConnection object at 0x0000016EF3392E10>\n"
     ]
    }
   ],
   "source": [
    "import mysql.connector\n",
    "\n",
    "con1 = mysql.connector.connect(\n",
    "    host=\"localhost\",\n",
    "    user=\"root\",\n",
    "    passwd=\"\",\n",
    "    database=\"mydatabase\"\n",
    ")\n",
    "print(con1)"
   ]
  },
  {
   "cell_type": "code",
   "execution_count": 2,
   "metadata": {},
   "outputs": [],
   "source": [
    "myCursor = con1.cursor()"
   ]
  },
  {
   "cell_type": "code",
   "execution_count": 6,
   "metadata": {},
   "outputs": [
    {
     "name": "stdout",
     "output_type": "stream",
     "text": [
      "Please Enter Your UserName: ' OR '1' = '1\n",
      "Please Enter Your Password: ' OR '1' = '1\n",
      "(1, 'Sara Emami', 'sara.emami@icloud.com', '12345')\n",
      "(2, 'asdada', 'h', '2')\n"
     ]
    }
   ],
   "source": [
    "uname = input(\"Please Enter Your UserName: \")\n",
    "upass = input(\"Please Enter Your Password: \")\n",
    "\n",
    "query = \"SELECT * FROM users WHERE email = '{x}' AND pwd = '{y}';\".format(x=uname, y=upass)\n",
    "myCursor.execute(query)\n",
    "\n",
    "results = myCursor.fetchall()\n",
    "\n",
    "flag = False\n",
    "for row in results:\n",
    "    print(row)\n",
    "    flag = True\n",
    "if not flag:\n",
    "    print(\"No results\")"
   ]
  },
  {
   "cell_type": "code",
   "execution_count": 7,
   "metadata": {},
   "outputs": [
    {
     "name": "stdout",
     "output_type": "stream",
     "text": [
      "Please Enter Your UserName: ' OR '1' = '1\n",
      "Please Enter Your Password: ' OR '1' = '1\n",
      "No results\n"
     ]
    }
   ],
   "source": [
    "uname = input(\"Please Enter Your UserName: \")\n",
    "upass = input(\"Please Enter Your Password: \")\n",
    "\n",
    "query = \"SELECT * FROM users WHERE email = %s AND pwd = %s;\"\n",
    "values= (uname,upass)\n",
    "myCursor.execute(query,values)\n",
    "\n",
    "results = myCursor.fetchall()\n",
    "\n",
    "flag = False\n",
    "for row in results:\n",
    "    print(row)\n",
    "    flag = True\n",
    "if not flag:\n",
    "    print(\"No results\")"
   ]
  }
 ],
 "metadata": {
  "kernelspec": {
   "display_name": "Python 3",
   "language": "python",
   "name": "python3"
  },
  "language_info": {
   "codemirror_mode": {
    "name": "ipython",
    "version": 3
   },
   "file_extension": ".py",
   "mimetype": "text/x-python",
   "name": "python",
   "nbconvert_exporter": "python",
   "pygments_lexer": "ipython3",
   "version": "3.7.3"
  }
 },
 "nbformat": 4,
 "nbformat_minor": 2
}
