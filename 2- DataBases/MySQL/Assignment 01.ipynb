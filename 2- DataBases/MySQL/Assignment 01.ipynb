{
 "cells": [
  {
   "cell_type": "markdown",
   "metadata": {},
   "source": [
    "# Assignment 01\n",
    "<br>\n",
    "<span style='color:green;'>\n",
    "Write a program that Creates a shopping list.<br>\n",
    "    <span style='color:red'><b>| Store everything in a database system, so the client can restore the list on reusing ( closing and opening) the program.</b></span><br>\n",
    "    <span style='color:red;'><b>| The client should be able to add - update - delete from the list. </b></span><br>\n",
    "    <span style='color:red;'><b>| Extend the program so the client can create multiply lists.</b></span>\n",
    "<span>\n",
    "<br><br><br>\n",
    "<span dir='rtl' style='align:right;float:right;'>\n",
    "  برنامه ای بنویسید که یک لیست خرید را شبیه سازی کند.<br>\n",
    "<span style='color:red'>| تمامی اطلاعات را در پایگاه داده ذخیره کنید تا در صورت نیاز دوباره، کاربر بتواند اطلاعات را بازیابی کند. </span><br>\n",
    "    <span style='color:red'>\n",
    "        | کاربر بایستی بتواند ایتم جدید به لیست خود اضافه و یا ایتمی را از لیست حذف کند، و یا ایتمی را ویرایش کند.\n",
    "    </span><br>\n",
    "    <span style='color:red'>| برنامه را به گونه ای گسترش دهید که کاربر بتواند لیست های بیشتری را اضافه کند.</span>\n",
    "</span>\n",
    "</span>\n",
    "</span>\n",
    "<span style='display:none;'>Copyright All Rights Reserved Ramin Saljoughinejad</span>"
   ]
  },
  {
   "cell_type": "code",
   "execution_count": 1,
   "metadata": {},
   "outputs": [],
   "source": [
    "import mysql.connector"
   ]
  },
  {
   "cell_type": "code",
   "execution_count": 2,
   "metadata": {},
   "outputs": [],
   "source": [
    "def sqlConnector():\n",
    "    con1 = mysql.connector.connect(\n",
    "    host=\"localhost\",\n",
    "    user=\"root\",\n",
    "    passwd=\"\"\n",
    "    )\n",
    "    myCursor = con1.cursor()\n",
    "\n",
    "    myCursor.execute(\"SHOW DATABASES\")\n",
    "\n",
    "    dbName = \"shoppinglist\"\n",
    "    j = []\n",
    "    flag = False\n",
    "    for db in myCursor:\n",
    "        if db[0] == dbName:\n",
    "            flag = True\n",
    "    if not flag:\n",
    "        myCursor.execute(\"CREATE DATABASE shoppinglist\")\n",
    "        con1 = mysql.connector.connect(\n",
    "        host=\"localhost\",\n",
    "        user=\"root\",\n",
    "        passwd=\"\",\n",
    "        database=\"shoppinglist\"\n",
    "        )\n",
    "    else:\n",
    "        con1 = mysql.connector.connect(\n",
    "        host=\"localhost\",\n",
    "        user=\"root\",\n",
    "        passwd=\"\",\n",
    "        database=\"shoppinglist\"\n",
    "        )\n",
    "    return con1"
   ]
  },
  {
   "cell_type": "code",
   "execution_count": 3,
   "metadata": {},
   "outputs": [],
   "source": [
    "def GeneralCommandsList():\n",
    "    print(\"For creating a list use 'CreateNewList' command.\")\n",
    "    print(\"For selecting a list use 'selectList' command.\")\n",
    "    print(\"For exiting the program use 'exit' command.\")\n",
    "    return getCommand()\n",
    "\n",
    "def ListCommandList(current_list):\n",
    "    print(\"For retriving a new item to your current list '{current_list}' use 'Show' command.\")\n",
    "    print(\"For adding a new item to your current list '{current_list}' use 'Add' command.\")\n",
    "    print(\"For deleting an item from your current list '{current_list}' use 'Delete' command.\")\n",
    "    print(\"For editing an item in your current list '{current_list}' use 'Edite' command.\")\n",
    "    return getCommand()\n",
    "\n",
    "def getCommand():\n",
    "    new_CMD = input(\"Please Enter Your command.\")\n",
    "    return new_CMD"
   ]
  },
  {
   "cell_type": "code",
   "execution_count": 4,
   "metadata": {},
   "outputs": [],
   "source": [
    "def ShowTables(myCursor):\n",
    "    myCursor.execute(\"SHOW TABLES\")\n",
    "    flag = False\n",
    "    for table in myCursor:\n",
    "        flag = True\n",
    "        print(table[0])\n",
    "    if not flag:\n",
    "        print(\"########################\")\n",
    "        print(\"No Shopping Lists found.\")\n",
    "        print(\"########################\")\n",
    "    GeneralCommandList()"
   ]
  },
  {
   "cell_type": "code",
   "execution_count": 5,
   "metadata": {},
   "outputs": [
    {
     "name": "stdout",
     "output_type": "stream",
     "text": [
      "########################\n",
      "No Shopping Lists found.\n",
      "########################\n"
     ]
    },
    {
     "ename": "NameError",
     "evalue": "name 'GeneralCommandList' is not defined",
     "output_type": "error",
     "traceback": [
      "\u001b[1;31m---------------------------------------------------------------------------\u001b[0m",
      "\u001b[1;31mNameError\u001b[0m                                 Traceback (most recent call last)",
      "\u001b[1;32m<ipython-input-5-000b6bb7b7bc>\u001b[0m in \u001b[0;36m<module>\u001b[1;34m\u001b[0m\n\u001b[0;32m      1\u001b[0m \u001b[0mcon1\u001b[0m \u001b[1;33m=\u001b[0m \u001b[0msqlConnector\u001b[0m\u001b[1;33m(\u001b[0m\u001b[1;33m)\u001b[0m\u001b[1;33m\u001b[0m\u001b[1;33m\u001b[0m\u001b[0m\n\u001b[0;32m      2\u001b[0m \u001b[0mmyCursor\u001b[0m \u001b[1;33m=\u001b[0m \u001b[0mcon1\u001b[0m\u001b[1;33m.\u001b[0m\u001b[0mcursor\u001b[0m\u001b[1;33m(\u001b[0m\u001b[1;33m)\u001b[0m\u001b[1;33m\u001b[0m\u001b[1;33m\u001b[0m\u001b[0m\n\u001b[1;32m----> 3\u001b[1;33m \u001b[0mShowTables\u001b[0m\u001b[1;33m(\u001b[0m\u001b[0mmyCursor\u001b[0m\u001b[1;33m)\u001b[0m\u001b[1;33m\u001b[0m\u001b[1;33m\u001b[0m\u001b[0m\n\u001b[0m",
      "\u001b[1;32m<ipython-input-4-fa4cd81314d4>\u001b[0m in \u001b[0;36mShowTables\u001b[1;34m(myCursor)\u001b[0m\n\u001b[0;32m      9\u001b[0m         \u001b[0mprint\u001b[0m\u001b[1;33m(\u001b[0m\u001b[1;34m\"No Shopping Lists found.\"\u001b[0m\u001b[1;33m)\u001b[0m\u001b[1;33m\u001b[0m\u001b[1;33m\u001b[0m\u001b[0m\n\u001b[0;32m     10\u001b[0m         \u001b[0mprint\u001b[0m\u001b[1;33m(\u001b[0m\u001b[1;34m\"########################\"\u001b[0m\u001b[1;33m)\u001b[0m\u001b[1;33m\u001b[0m\u001b[1;33m\u001b[0m\u001b[0m\n\u001b[1;32m---> 11\u001b[1;33m     \u001b[0mGeneralCommandList\u001b[0m\u001b[1;33m(\u001b[0m\u001b[1;33m)\u001b[0m\u001b[1;33m\u001b[0m\u001b[1;33m\u001b[0m\u001b[0m\n\u001b[0m",
      "\u001b[1;31mNameError\u001b[0m: name 'GeneralCommandList' is not defined"
     ]
    }
   ],
   "source": [
    "con1 = sqlConnector()\n",
    "myCursor = con1.cursor()\n",
    "ShowTables(myCursor)"
   ]
  }
 ],
 "metadata": {
  "kernelspec": {
   "display_name": "Python 3",
   "language": "python",
   "name": "python3"
  },
  "language_info": {
   "codemirror_mode": {
    "name": "ipython",
    "version": 3
   },
   "file_extension": ".py",
   "mimetype": "text/x-python",
   "name": "python",
   "nbconvert_exporter": "python",
   "pygments_lexer": "ipython3",
   "version": "3.7.3"
  }
 },
 "nbformat": 4,
 "nbformat_minor": 2
}
