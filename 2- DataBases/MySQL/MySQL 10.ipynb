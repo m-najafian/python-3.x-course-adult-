{
 "cells": [
  {
   "cell_type": "markdown",
   "metadata": {},
   "source": [
    "# Retriving Data From Tables"
   ]
  },
  {
   "cell_type": "code",
   "execution_count": 1,
   "metadata": {},
   "outputs": [
    {
     "name": "stdout",
     "output_type": "stream",
     "text": [
      "<mysql.connector.connection.MySQLConnection object at 0x000002C783334A20>\n"
     ]
    }
   ],
   "source": [
    "import mysql.connector\n",
    "\n",
    "con1 = mysql.connector.connect(\n",
    "    host=\"localhost\",\n",
    "    user=\"root\",\n",
    "    passwd=\"\",\n",
    "    database=\"mydatabase\"\n",
    ")\n",
    "print(con1)"
   ]
  },
  {
   "cell_type": "code",
   "execution_count": 2,
   "metadata": {},
   "outputs": [
    {
     "name": "stdout",
     "output_type": "stream",
     "text": [
      "(1, 'John', 'Highway 21', 'john.krohn@icloud.com')\n",
      "(2, 'Peter', 'Lowstreet 4', None)\n",
      "(3, 'Amy', 'Apple st 652', None)\n",
      "(4, 'Hannah', 'Mountain 21', None)\n",
      "(5, 'Michael', 'Valley 345', None)\n",
      "(6, 'Sandy', 'Ocean blvd 2', None)\n",
      "(7, 'Betty', 'Green Grass 1', None)\n",
      "(8, 'Richard', 'Sky st 331', None)\n",
      "(9, 'Susan', 'One way 98', None)\n",
      "(10, 'Vicky', 'Yellow Garden 2', None)\n",
      "(11, 'Ben', 'Park Lane 38', None)\n",
      "(12, 'William', 'Central st 954', None)\n",
      "(13, 'Chuck', 'Main Road 989', None)\n",
      "(14, 'Viola', 'Sideway 1633', None)\n",
      "(15, 'Michelle', 'Blue Village', None)\n"
     ]
    }
   ],
   "source": [
    "mycursor = con1.cursor()\n",
    "\n",
    "mycursor.execute(\"SELECT * FROM customers\")\n",
    "\n",
    "myresult = mycursor.fetchall()\n",
    "\n",
    "for row in myresult:\n",
    "    print(row)"
   ]
  },
  {
   "cell_type": "code",
   "execution_count": 3,
   "metadata": {},
   "outputs": [
    {
     "name": "stdout",
     "output_type": "stream",
     "text": [
      "1   Highway 21\n",
      "2   Lowstreet 4\n",
      "3   Apple st 652\n",
      "4   Mountain 21\n",
      "5   Valley 345\n",
      "6   Ocean blvd 2\n",
      "7   Green Grass 1\n",
      "8   Sky st 331\n",
      "9   One way 98\n",
      "10   Yellow Garden 2\n",
      "11   Park Lane 38\n",
      "12   Central st 954\n",
      "13   Main Road 989\n",
      "14   Sideway 1633\n",
      "15   Blue Village\n"
     ]
    }
   ],
   "source": [
    "for row in myresult:\n",
    "    print(row[0], \" \", row[2])"
   ]
  }
 ],
 "metadata": {
  "kernelspec": {
   "display_name": "Python 3",
   "language": "python",
   "name": "python3"
  },
  "language_info": {
   "codemirror_mode": {
    "name": "ipython",
    "version": 3
   },
   "file_extension": ".py",
   "mimetype": "text/x-python",
   "name": "python",
   "nbconvert_exporter": "python",
   "pygments_lexer": "ipython3",
   "version": "3.7.3"
  }
 },
 "nbformat": 4,
 "nbformat_minor": 2
}
