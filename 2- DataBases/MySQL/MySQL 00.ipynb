{
 "cells": [
  {
   "cell_type": "markdown",
   "metadata": {},
   "source": [
    "### Installation\n",
    "\n",
    "\n",
    "1- Download and install MySQL from its site<br>\n",
    "    - Alt --> Install Wamp Server<br><br>\n",
    "<span style='color:red;font-size:20px;'>Windows</span><br>\n",
    "2- Execute the following command<br> \n",
    "    python -m pip install --upgrade mysql-connector<br>\n",
    "    python -m pip install --upgrade --user mysql-connector <br><br>\n",
    "<span style='color:red;font-size:20px;'>Mac</span><br>\n",
    "2- Execute the following command <br> \n",
    "    python3 -m pip install --upgrade --user mysql-connector-python <br>"
   ]
  }
 ],
 "metadata": {
  "kernelspec": {
   "display_name": "Python 3",
   "language": "python",
   "name": "python3"
  },
  "language_info": {
   "codemirror_mode": {
    "name": "ipython",
    "version": 3
   },
   "file_extension": ".py",
   "mimetype": "text/x-python",
   "name": "python",
   "nbconvert_exporter": "python",
   "pygments_lexer": "ipython3",
   "version": "3.7.3"
  }
 },
 "nbformat": 4,
 "nbformat_minor": 2
}
