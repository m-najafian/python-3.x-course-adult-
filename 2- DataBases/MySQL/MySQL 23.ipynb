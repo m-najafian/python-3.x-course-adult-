{
 "cells": [
  {
   "cell_type": "markdown",
   "metadata": {},
   "source": [
    "# JOIN"
   ]
  },
  {
   "cell_type": "code",
   "execution_count": 1,
   "metadata": {},
   "outputs": [
    {
     "name": "stdout",
     "output_type": "stream",
     "text": [
      "<mysql.connector.connection.MySQLConnection object at 0x000001E9A32D6A90>\n"
     ]
    }
   ],
   "source": [
    "import mysql.connector\n",
    "\n",
    "con1 = mysql.connector.connect(\n",
    "    host=\"localhost\",\n",
    "    user=\"root\",\n",
    "    passwd=\"\",\n",
    "    database=\"mydatabase\"\n",
    ")\n",
    "print(con1)"
   ]
  },
  {
   "cell_type": "code",
   "execution_count": 2,
   "metadata": {},
   "outputs": [
    {
     "name": "stdout",
     "output_type": "stream",
     "text": [
      "(1, 'John', 154)\n",
      "(2, 'Peter', 154)\n",
      "(3, 'Amy', 155)\n",
      "(4, 'Michael', 157)\n",
      "(5, 'Hannah', 158)\n"
     ]
    }
   ],
   "source": [
    "mycursor = con1.cursor()\n",
    "mycursor.execute(\"CREATE TABLE users (id INT AUTO_INCREMENT PRIMARY KEY, name VARCHAR(255), fav INT)\")\n",
    "query = \"INSERT INTO users (name, fav) VALUES (%s, %s)\"\n",
    "val = [\n",
    "  ('John', 154),\n",
    "  ('Peter', 154),\n",
    "  ('Amy', 155),\n",
    "  ('Michael',157),\n",
    "  ('Hannah',158)\n",
    "]\n",
    "mycursor.executemany(query,val)\n",
    "con1.commit()\n",
    "\n",
    "mycursor.execute(\"SELECT * FROM users\")\n",
    "res = mycursor.fetchall()\n",
    "\n",
    "for row in res:\n",
    "    print(row)"
   ]
  },
  {
   "cell_type": "code",
   "execution_count": 3,
   "metadata": {},
   "outputs": [
    {
     "name": "stdout",
     "output_type": "stream",
     "text": [
      "(154, 'Chocolate Heaven')\n",
      "(155, 'Tasty Lemons')\n",
      "(156, 'Vanilla Dreams')\n"
     ]
    }
   ],
   "source": [
    "mycursor.execute(\"CREATE TABLE products (id INT, name VARCHAR(255))\")\n",
    "query = \"INSERT INTO products (id, name) VALUES (%s, %s)\"\n",
    "val = [\n",
    "  (154, \"Chocolate Heaven\"),\n",
    "  (155, \"Tasty Lemons\"),\n",
    "  (156, \"Vanilla Dreams\")\n",
    "]\n",
    "mycursor.executemany(query,val)\n",
    "con1.commit()\n",
    "\n",
    "mycursor.execute(\"SELECT * FROM products\")\n",
    "res = mycursor.fetchall()\n",
    "\n",
    "for row in res:\n",
    "    print(row)"
   ]
  },
  {
   "cell_type": "code",
   "execution_count": 4,
   "metadata": {},
   "outputs": [
    {
     "name": "stdout",
     "output_type": "stream",
     "text": [
      "('John', 'Chocolate Heaven')\n",
      "('Peter', 'Chocolate Heaven')\n",
      "('Amy', 'Tasty Lemons')\n"
     ]
    }
   ],
   "source": [
    "mycursor = con1.cursor()\n",
    "\n",
    "query = \"SELECT \\\n",
    "  users.name AS user, \\\n",
    "  products.name AS favorite \\\n",
    "  FROM users \\\n",
    "  INNER JOIN products ON users.fav = products.id\"\n",
    "\n",
    "mycursor.execute(query)\n",
    "\n",
    "myresult = mycursor.fetchall()\n",
    "\n",
    "for row in myresult:\n",
    "     print(row)"
   ]
  }
 ],
 "metadata": {
  "kernelspec": {
   "display_name": "Python 3",
   "language": "python",
   "name": "python3"
  },
  "language_info": {
   "codemirror_mode": {
    "name": "ipython",
    "version": 3
   },
   "file_extension": ".py",
   "mimetype": "text/x-python",
   "name": "python",
   "nbconvert_exporter": "python",
   "pygments_lexer": "ipython3",
   "version": "3.7.3"
  }
 },
 "nbformat": 4,
 "nbformat_minor": 2
}
