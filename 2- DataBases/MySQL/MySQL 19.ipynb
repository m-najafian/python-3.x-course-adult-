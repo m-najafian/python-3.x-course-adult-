{
 "cells": [
  {
   "cell_type": "markdown",
   "metadata": {},
   "source": [
    "# UPDATING DATA"
   ]
  },
  {
   "cell_type": "code",
   "execution_count": 1,
   "metadata": {},
   "outputs": [
    {
     "name": "stdout",
     "output_type": "stream",
     "text": [
      "<mysql.connector.connection.MySQLConnection object at 0x00000292462C6A90>\n"
     ]
    }
   ],
   "source": [
    "import mysql.connector\n",
    "\n",
    "con1 = mysql.connector.connect(\n",
    "    host=\"localhost\",\n",
    "    user=\"root\",\n",
    "    passwd=\"\",\n",
    "    database=\"mydatabase\"\n",
    ")\n",
    "print(con1)"
   ]
  },
  {
   "cell_type": "code",
   "execution_count": 2,
   "metadata": {},
   "outputs": [
    {
     "name": "stdout",
     "output_type": "stream",
     "text": [
      "13 was inserted.\n"
     ]
    }
   ],
   "source": [
    "mycursor = con1.cursor()\n",
    "mycursor.execute(\"CREATE TABLE customers (id INT AUTO_INCREMENT PRIMARY KEY, name VARCHAR(255), address VARCHAR(255))\")\n",
    "con1.commit()\n",
    "\n",
    "sql = \"INSERT INTO customers (name, address) VALUES (%s, %s)\"\n",
    "val = [\n",
    "  ('Peter', 'Lowstreet 4'),\n",
    "  ('Amy', 'Apple st 652'),\n",
    "  ('Hannah', 'Mountain 21'),\n",
    "  ('Michael', 'Valley 345'),\n",
    "  ('Sandy', 'Ocean blvd 2'),\n",
    "  ('Betty', 'Green Grass 1'),\n",
    "  ('Richard', 'Sky st 331'),\n",
    "  ('Susan', 'One way 98'),\n",
    "  ('Vicky', 'Yellow Garden 2'),\n",
    "  ('Ben', 'Park Lane 38'),\n",
    "  ('William', 'Central st 954'),\n",
    "  ('Chuck', 'Main Road 989'),\n",
    "  ('Viola', 'Sideway 1633')\n",
    "]\n",
    "\n",
    "mycursor.executemany(sql, val)\n",
    "\n",
    "con1.commit() ## Not for all version ! do it anyway there is no harm!\n",
    "\n",
    "print(mycursor.rowcount, \"was inserted.\") "
   ]
  },
  {
   "cell_type": "code",
   "execution_count": 3,
   "metadata": {},
   "outputs": [
    {
     "name": "stdout",
     "output_type": "stream",
     "text": [
      "1 record(s) affected\n"
     ]
    }
   ],
   "source": [
    "mycursor = con1.cursor()\n",
    "\n",
    "query = \"UPDATE customers SET address = 'Canyon 123' WHERE address = 'Valley 345'\"\n",
    "\n",
    "mycursor.execute(query)\n",
    "\n",
    "con1.commit()\n",
    "\n",
    "print(mycursor.rowcount, \"record(s) affected\") "
   ]
  },
  {
   "cell_type": "code",
   "execution_count": 4,
   "metadata": {},
   "outputs": [
    {
     "name": "stdout",
     "output_type": "stream",
     "text": [
      "(1, 'Peter', 'Lowstreet 4')\n",
      "(2, 'Amy', 'Apple st 652')\n",
      "(3, 'Hannah', 'Mountain 21')\n",
      "(4, 'Michael', 'Canyon 123')\n",
      "(5, 'Sandy', 'Ocean blvd 2')\n",
      "(6, 'Betty', 'Green Grass 1')\n",
      "(7, 'Richard', 'Sky st 331')\n",
      "(8, 'Susan', 'One way 98')\n",
      "(9, 'Vicky', 'Yellow Garden 2')\n",
      "(10, 'Ben', 'Park Lane 38')\n",
      "(11, 'William', 'Central st 954')\n",
      "(12, 'Chuck', 'Main Road 989')\n",
      "(13, 'Viola', 'Sideway 1633')\n"
     ]
    }
   ],
   "source": [
    "query = \"SELECT * FROM customers\"\n",
    "mycursor.execute(query)\n",
    "res = mycursor.fetchall()\n",
    "\n",
    "for row in res:\n",
    "    print(row)"
   ]
  }
 ],
 "metadata": {
  "kernelspec": {
   "display_name": "Python 3",
   "language": "python",
   "name": "python3"
  },
  "language_info": {
   "codemirror_mode": {
    "name": "ipython",
    "version": 3
   },
   "file_extension": ".py",
   "mimetype": "text/x-python",
   "name": "python",
   "nbconvert_exporter": "python",
   "pygments_lexer": "ipython3",
   "version": "3.7.3"
  }
 },
 "nbformat": 4,
 "nbformat_minor": 2
}
