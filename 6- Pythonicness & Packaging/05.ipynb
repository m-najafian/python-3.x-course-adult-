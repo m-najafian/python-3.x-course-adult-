{
 "cells": [
  {
   "cell_type": "markdown",
   "metadata": {},
   "source": [
    "# Else\n",
    "<span style='color:purple;'>The <b style='color:blue'>else</b> statement is most commonly used along with the <b style='color:blue'>if</b> statement, but it can also follow a <b style='color:blue'>for</b> or <b style='color:blue'>while</b> loop, the code within it is called if the loop finishes normally (when a <b style='color:blue;'>break</b> statement does not cause an exit from the loop).</span>"
   ]
  },
  {
   "cell_type": "code",
   "execution_count": 1,
   "metadata": {},
   "outputs": [
    {
     "name": "stdout",
     "output_type": "stream",
     "text": [
      "Unbroken Loop 1\n"
     ]
    }
   ],
   "source": [
    "for i in range(10):\n",
    "    if i == 20:\n",
    "        break\n",
    "else:\n",
    "    print(\"Unbroken Loop 1\")\n",
    "    \n",
    "for i in range(10):\n",
    "    if i == 8:\n",
    "        break\n",
    "else:\n",
    "    print(\"Unbroken loop 2\")"
   ]
  }
 ],
 "metadata": {
  "kernelspec": {
   "display_name": "Python 3",
   "language": "python",
   "name": "python3"
  },
  "language_info": {
   "codemirror_mode": {
    "name": "ipython",
    "version": 3
   },
   "file_extension": ".py",
   "mimetype": "text/x-python",
   "name": "python",
   "nbconvert_exporter": "python",
   "pygments_lexer": "ipython3",
   "version": "3.7.3"
  }
 },
 "nbformat": 4,
 "nbformat_minor": 2
}
