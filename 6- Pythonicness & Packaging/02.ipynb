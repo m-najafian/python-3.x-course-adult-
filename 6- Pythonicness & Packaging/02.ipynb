{
 "cells": [
  {
   "cell_type": "markdown",
   "metadata": {},
   "source": [
    "# PEP - Python Enhancement Proposals\n",
    "<span style='color:purple;'>Are sugesstions for improvments to the language, made by experienced python developers.</span><br>\n",
    "<span style='margin-left:25px'>-modules should have short, all-lowercase names.</span><br>\n",
    "<span style='margin-left:25px'>-class names should be in CapWords style.</span><br>\n",
    "<span style='margin-left:25px'>-most variables and function names shouldbe lowercase_with_underscores.</span><br>\n",
    "<span style='margin-left:25px'>-constances (variables that never change value) should be CAPS_WITH_UNDERSCORES.</span><br>\n",
    "<span style='margin-left:25px'>-names that whould clash with python keywords (such as 'class' or 'if' should have a trailing underscore.</span><br>\n",
    "<span style='margin-left:25px'>-use spaces around operators and after commas to increase readability.</span><br>\n",
    "<span style='margin-left:25px'>-lines shouldn't be longer than 80 characters.</span><br>\n",
    "<span style='margin-left:25px'>-'from module import *' should be avoided.</span><br>\n",
    "<span style='margin-left:25px'>-there should only be one statement per line.</span><br>\n",
    "<span style='margin-left:25px'>-ignore PEP rules when it makes sense to do so.</span><br>"
   ]
  }
 ],
 "metadata": {
  "kernelspec": {
   "display_name": "Python 3",
   "language": "python",
   "name": "python3"
  },
  "language_info": {
   "codemirror_mode": {
    "name": "ipython",
    "version": 3
   },
   "file_extension": ".py",
   "mimetype": "text/x-python",
   "name": "python",
   "nbconvert_exporter": "python",
   "pygments_lexer": "ipython3",
   "version": "3.7.3"
  }
 },
 "nbformat": 4,
 "nbformat_minor": 2
}
