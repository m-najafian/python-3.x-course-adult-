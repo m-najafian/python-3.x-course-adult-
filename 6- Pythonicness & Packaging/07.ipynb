{
 "cells": [
  {
   "cell_type": "markdown",
   "metadata": {},
   "source": [
    "# Packaging\n",
    "<br><br>\n",
    "<Span style='color:RED;font-size:28px;'>Step 1:</span><br><br>\n",
    "<span style='margin-left:20px;color:purple;'>-Place all the files you want to put in a libarary in the same parent directory.</span><br>\n",
    "<span style='margin-left:20px;color:purple;'>-This dirrectory should also contain a file called __ init __ .py, which can be blank but must be present in the directory.</span><br>\n",
    "<span style='margin-left:20px;color:purple;'>-This directory goes into another directory containing the readme and license, as well as an important file called setup.py.</span><br><br>Example:<br><br>\n",
    "<span style='color:blue;'>Poets<span style='color:red;'>/</span></span><br>\n",
    "<span style='color:orange;margin-left:40px;'>LICENSE.txt</span><br>\n",
    "<span style='color:orange;margin-left:40px;'>README.txt</span><br>\n",
    "<span style='color:green;margin-left:40px;'>setup.py</span><br>\n",
    "<span style='color:blue;margin-left:40px;'>poets<span style='color:red;'>/</span></span><br>\n",
    "<span style='color:brown;margin-left:80px;'>__ init __.py</span><br>\n",
    "<span style='color:green;margin-left:80px;'>poet1.py</span><br>\n",
    "<span style='color:green;margin-left:80px;'>poet2.py</span><br>\n",
    "<span style='color:green;margin-left:80px;'>poet3.py</span><br><br><br><br>\n",
    "<Span style='color:RED;font-size:28px;'>Step 2:</span><br><br>\n",
    "<span style='margin-left:20px;color:purple;'>-Write the setup.py file.<span><br>\n",
    "<span style='margin-left:40px;color:purple;'>This contains information necessary fo assemble the package so it can be uploaded to <b style='color:blue;'>PyPI</b> and installed with <b style='color:blue;'>pip</b>.<span><br>"
   ]
  },
  {
   "cell_type": "code",
   "execution_count": null,
   "metadata": {},
   "outputs": [],
   "source": [
    "# codes inside setup.py file\n",
    "\n",
    "from distutils.core import setup\n",
    "\n",
    "setup(\n",
    "    name=\"Poets\",\n",
    "    version='0.1dev',\n",
    "    packages=['poets',],\n",
    "    license='MIT',\n",
    "\n",
    "long_description=open('README.txt').read(),\n",
    ")"
   ]
  },
  {
   "cell_type": "markdown",
   "metadata": {},
   "source": [
    "###\n",
    "https://pypi.org\n",
    "https://dzone.com/articles/executable-package-pip-install"
   ]
  }
 ],
 "metadata": {
  "kernelspec": {
   "display_name": "Python 3",
   "language": "python",
   "name": "python3"
  },
  "language_info": {
   "codemirror_mode": {
    "name": "ipython",
    "version": 3
   },
   "file_extension": ".py",
   "mimetype": "text/x-python",
   "name": "python",
   "nbconvert_exporter": "python",
   "pygments_lexer": "ipython3",
   "version": "3.7.3"
  }
 },
 "nbformat": 4,
 "nbformat_minor": 2
}
