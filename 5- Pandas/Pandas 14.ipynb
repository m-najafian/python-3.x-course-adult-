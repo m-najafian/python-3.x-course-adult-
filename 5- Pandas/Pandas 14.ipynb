{
 "cells": [
  {
   "cell_type": "code",
   "execution_count": 1,
   "metadata": {},
   "outputs": [],
   "source": [
    "import numpy as np\n",
    "import pandas as pd"
   ]
  },
  {
   "cell_type": "code",
   "execution_count": 2,
   "metadata": {},
   "outputs": [],
   "source": [
    "filename = 'Files/foo.csv'\n",
    "\n",
    "\n",
    "df = pd.read_csv(filename, header=0, usecols=[\"month\",\"avg_low\",\"avg_high\"])"
   ]
  },
  {
   "cell_type": "code",
   "execution_count": 3,
   "metadata": {},
   "outputs": [
    {
     "name": "stdout",
     "output_type": "stream",
     "text": [
      "   month  avg_high  avg_low\n",
      "0    Jan        58       42\n",
      "1    Feb        61       45\n",
      "2    Mar        65       48\n",
      "3    Apr        67       50\n",
      "4    May        71       53\n",
      "5    Jun        75       56\n",
      "6    Jul        77       58\n",
      "7    Aug        77       59\n",
      "8    Sep        77       57\n",
      "9    Oct        73       54\n",
      "10   Nov        64       48\n",
      "11   Dec        58       42\n"
     ]
    }
   ],
   "source": [
    "print(df)"
   ]
  }
 ],
 "metadata": {
  "kernelspec": {
   "display_name": "Python 3",
   "language": "python",
   "name": "python3"
  },
  "language_info": {
   "codemirror_mode": {
    "name": "ipython",
    "version": 3
   },
   "file_extension": ".py",
   "mimetype": "text/x-python",
   "name": "python",
   "nbconvert_exporter": "python",
   "pygments_lexer": "ipython3",
   "version": "3.7.3"
  }
 },
 "nbformat": 4,
 "nbformat_minor": 2
}
