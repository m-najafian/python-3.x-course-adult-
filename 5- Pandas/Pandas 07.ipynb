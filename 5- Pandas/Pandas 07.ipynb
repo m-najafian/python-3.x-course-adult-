{
 "cells": [
  {
   "cell_type": "code",
   "execution_count": 1,
   "metadata": {},
   "outputs": [],
   "source": [
    "import numpy as np\n",
    "import pandas as pd\n",
    "\n",
    "filename = 'Files/weather.txt'\n",
    "df = pd.read_csv(filename)"
   ]
  },
  {
   "cell_type": "code",
   "execution_count": 2,
   "metadata": {},
   "outputs": [
    {
     "name": "stdout",
     "output_type": "stream",
     "text": [
      "0     42\n",
      "1     45\n",
      "2     48\n",
      "3     50\n",
      "4     53\n",
      "5     56\n",
      "6     58\n",
      "7     59\n",
      "8     57\n",
      "9     54\n",
      "10    48\n",
      "11    42\n",
      "Name: avg_low, dtype: int64\n"
     ]
    }
   ],
   "source": [
    "print(df.avg_low)         #df + column name gives you a single column of data!"
   ]
  },
  {
   "cell_type": "code",
   "execution_count": 3,
   "metadata": {},
   "outputs": [
    {
     "name": "stdout",
     "output_type": "stream",
     "text": [
      "0     42\n",
      "1     45\n",
      "2     48\n",
      "3     50\n",
      "4     53\n",
      "5     56\n",
      "6     58\n",
      "7     59\n",
      "8     57\n",
      "9     54\n",
      "10    48\n",
      "11    42\n",
      "Name: avg_low, dtype: int64\n"
     ]
    }
   ],
   "source": [
    "print(df['avg_low'])"
   ]
  },
  {
   "cell_type": "code",
   "execution_count": 4,
   "metadata": {},
   "outputs": [
    {
     "name": "stdout",
     "output_type": "stream",
     "text": [
      "  month  avg_high  avg_low  record_high  record_low  avg_precipitation\n",
      "2   Mar        65       48           84          25               2.34\n",
      "3   Apr        67       50           92          28               1.02\n",
      "4   May        71       53           98          35               0.48\n"
     ]
    }
   ],
   "source": [
    "print(df[2:5])"
   ]
  },
  {
   "cell_type": "code",
   "execution_count": 5,
   "metadata": {},
   "outputs": [
    {
     "name": "stdout",
     "output_type": "stream",
     "text": [
      "    avg_high  avg_low\n",
      "0         58       42\n",
      "1         61       45\n",
      "2         65       48\n",
      "3         67       50\n",
      "4         71       53\n",
      "5         75       56\n",
      "6         77       58\n",
      "7         77       59\n",
      "8         77       57\n",
      "9         73       54\n",
      "10        64       48\n",
      "11        58       42\n"
     ]
    }
   ],
   "source": [
    "print(df[['avg_high','avg_low']])"
   ]
  },
  {
   "cell_type": "code",
   "execution_count": 6,
   "metadata": {},
   "outputs": [
    {
     "name": "stdout",
     "output_type": "stream",
     "text": [
      "   avg_low  avg_high\n",
      "3       50        67\n",
      "4       53        71\n",
      "5       56        75\n",
      "6       58        77\n",
      "7       59        77\n",
      "8       57        77\n"
     ]
    }
   ],
   "source": [
    "print(df.loc[3:8,['avg_low','avg_high']])   #print(df.loc[:,['avg_low','avg_high']])"
   ]
  },
  {
   "cell_type": "code",
   "execution_count": 7,
   "metadata": {},
   "outputs": [
    {
     "name": "stdout",
     "output_type": "stream",
     "text": [
      "avg_low     54\n",
      "avg_high    73\n",
      "Name: 9, dtype: object\n"
     ]
    }
   ],
   "source": [
    "print(df.loc[9,['avg_low','avg_high']])"
   ]
  },
  {
   "cell_type": "code",
   "execution_count": 8,
   "metadata": {},
   "outputs": [
    {
     "name": "stdout",
     "output_type": "stream",
     "text": [
      "  month  record_high\n",
      "3   Apr           92\n",
      "4   May           98\n"
     ]
    }
   ],
   "source": [
    "print(df.iloc[3:5,[0,3]])"
   ]
  }
 ],
 "metadata": {
  "kernelspec": {
   "display_name": "Python 3",
   "language": "python",
   "name": "python3"
  },
  "language_info": {
   "codemirror_mode": {
    "name": "ipython",
    "version": 3
   },
   "file_extension": ".py",
   "mimetype": "text/x-python",
   "name": "python",
   "nbconvert_exporter": "python",
   "pygments_lexer": "ipython3",
   "version": "3.7.3"
  }
 },
 "nbformat": 4,
 "nbformat_minor": 2
}
