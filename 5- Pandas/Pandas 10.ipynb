{
 "cells": [
  {
   "cell_type": "code",
   "execution_count": 1,
   "metadata": {},
   "outputs": [],
   "source": [
    "import numpy as np\n",
    "import pandas as pd\n",
    "\n",
    "filename = 'Files/weather.txt'\n",
    "df = pd.read_csv(filename)\n",
    "\n",
    "df['avg_day'] = (df.avg_low + df.avg_high) / 2"
   ]
  },
  {
   "cell_type": "code",
   "execution_count": 2,
   "metadata": {},
   "outputs": [
    {
     "name": "stdout",
     "output_type": "stream",
     "text": [
      "  month  avg_high  avg_low  record_high  record_low  avg_rain  avg_day\n",
      "0   Jan        58       42           74          22      2.95     50.0\n",
      "1   Feb        61       45           78          26      3.02     53.0\n",
      "2   Mar        65       48           84          25      2.34     56.5\n",
      "3   Apr        67       50           92          28      1.02     58.5\n",
      "4   May        71       53           98          35      0.48     62.0\n"
     ]
    }
   ],
   "source": [
    "df.rename(columns = {'avg_precipitation':'avg_rain'}, inplace=True)\t\t# rename 1 column\n",
    "\n",
    "print(df.head())"
   ]
  },
  {
   "cell_type": "code",
   "execution_count": 3,
   "metadata": {},
   "outputs": [
    {
     "name": "stdout",
     "output_type": "stream",
     "text": [
      "  month  av_hi  av_lo  rec_hi  rec_lo  av_rain  av_day\n",
      "0   Jan     58     42      74      22     2.95    50.0\n",
      "1   Feb     61     45      78      26     3.02    53.0\n",
      "2   Mar     65     48      84      25     2.34    56.5\n",
      "3   Apr     67     50      92      28     1.02    58.5\n",
      "4   May     71     53      98      35     0.48    62.0\n"
     ]
    }
   ],
   "source": [
    "df.columns = ['month','av_hi','av_lo','rec_hi','rec_lo','av_rain','av_day']\n",
    "print(df.head())"
   ]
  }
 ],
 "metadata": {
  "kernelspec": {
   "display_name": "Python 3",
   "language": "python",
   "name": "python3"
  },
  "language_info": {
   "codemirror_mode": {
    "name": "ipython",
    "version": 3
   },
   "file_extension": ".py",
   "mimetype": "text/x-python",
   "name": "python",
   "nbconvert_exporter": "python",
   "pygments_lexer": "ipython3",
   "version": "3.7.3"
  }
 },
 "nbformat": 4,
 "nbformat_minor": 2
}
