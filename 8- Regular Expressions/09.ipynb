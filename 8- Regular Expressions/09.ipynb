{
 "cells": [
  {
   "cell_type": "code",
   "execution_count": 1,
   "metadata": {},
   "outputs": [],
   "source": [
    "import re"
   ]
  },
  {
   "cell_type": "code",
   "execution_count": 2,
   "metadata": {},
   "outputs": [
    {
     "name": "stdout",
     "output_type": "stream",
     "text": [
      "Match 1\n",
      "Match 4\n"
     ]
    }
   ],
   "source": [
    "pattern = r\"[A-Z][a-z][0-9]\"\n",
    "\n",
    "if re.search(pattern, \"Ab9\"):\n",
    "    print(\"Match 1\")\n",
    "\n",
    "if re.search(pattern, \"aB2\"):\n",
    "    print(\"Match 2\")\n",
    "    \n",
    "if re.search(pattern, \"AB5\"):\n",
    "    print(\"Match 3\")\n",
    "    \n",
    "if re.search(pattern, \"Ab10\"):\n",
    "    print(\"Match 4\")"
   ]
  },
  {
   "cell_type": "code",
   "execution_count": 3,
   "metadata": {},
   "outputs": [
    {
     "name": "stdout",
     "output_type": "stream",
     "text": [
      "Match 1\n"
     ]
    }
   ],
   "source": [
    "pattern = r\"^[A-Za-z]\"\n",
    "\n",
    "if re.search(pattern, \"Hello\"):\n",
    "    print(\"Match 1\")\n",
    "\n",
    "if re.search(pattern, \"2b\"):\n",
    "    print(\"Match 2\")"
   ]
  },
  {
   "cell_type": "code",
   "execution_count": null,
   "metadata": {},
   "outputs": [],
   "source": [
    "pattern = r\"[1-5][0-7]\""
   ]
  }
 ],
 "metadata": {
  "kernelspec": {
   "display_name": "Python 3",
   "language": "python",
   "name": "python3"
  },
  "language_info": {
   "codemirror_mode": {
    "name": "ipython",
    "version": 3
   },
   "file_extension": ".py",
   "mimetype": "text/x-python",
   "name": "python",
   "nbconvert_exporter": "python",
   "pygments_lexer": "ipython3",
   "version": "3.7.3"
  }
 },
 "nbformat": 4,
 "nbformat_minor": 2
}
