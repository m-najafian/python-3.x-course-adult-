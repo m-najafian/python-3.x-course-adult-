{
 "cells": [
  {
   "cell_type": "code",
   "execution_count": 1,
   "metadata": {},
   "outputs": [],
   "source": [
    "import re"
   ]
  },
  {
   "cell_type": "code",
   "execution_count": 2,
   "metadata": {},
   "outputs": [
    {
     "name": "stdout",
     "output_type": "stream",
     "text": [
      "Hello, my name is Tom. Tom Brown.\n"
     ]
    }
   ],
   "source": [
    "string = \"Hello, my name is Micheal. Micheal Brown.\"\n",
    "\n",
    "print(re.sub(\"Micheal\", \"Tom\", string))"
   ]
  },
  {
   "cell_type": "code",
   "execution_count": 3,
   "metadata": {},
   "outputs": [
    {
     "name": "stdout",
     "output_type": "stream",
     "text": [
      "Hello, i am Jennifer. i am Micheal's brother.\n"
     ]
    }
   ],
   "source": [
    "string = \"Hello, i'm Jennifer. i'm Micheal's brother.\"\n",
    "\n",
    "print(re.sub(\"'m\",' am', string))"
   ]
  }
 ],
 "metadata": {
  "kernelspec": {
   "display_name": "Python 3",
   "language": "python",
   "name": "python3"
  },
  "language_info": {
   "codemirror_mode": {
    "name": "ipython",
    "version": 3
   },
   "file_extension": ".py",
   "mimetype": "text/x-python",
   "name": "python",
   "nbconvert_exporter": "python",
   "pygments_lexer": "ipython3",
   "version": "3.7.3"
  }
 },
 "nbformat": 4,
 "nbformat_minor": 2
}
