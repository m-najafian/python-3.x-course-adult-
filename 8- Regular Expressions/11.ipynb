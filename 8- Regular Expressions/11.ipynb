{
 "cells": [
  {
   "cell_type": "markdown",
   "metadata": {},
   "source": [
    "# <Span style='color:blue'>More Metacharacters</span>\n",
    "<span>Some more metacharacters are <span style='color:red;'>*</span>, <span style='color:red;'>+</span>, <span style='color:red;'>?</span>, <span style='color:red;'>{</span> and <span style='color:red;'>}</span>.<br> these specify number of repetitions.<br> the metacharacter <span style='color:green;font-weight:bold;'> * </span> means <span style='color:green;'>\"zero or more repetitions of the previous thing\"</span>. It tries to match as many repetitions as possible. The \"Previous thing\" can be a single character, a class, or a group of characters in <span style='color:purple;'>parentheses</span>.</span>"
   ]
  },
  {
   "cell_type": "code",
   "execution_count": 1,
   "metadata": {},
   "outputs": [],
   "source": [
    "import re"
   ]
  },
  {
   "cell_type": "code",
   "execution_count": 2,
   "metadata": {},
   "outputs": [
    {
     "name": "stdout",
     "output_type": "stream",
     "text": [
      "Match 1\n",
      "Match 2\n",
      "Match 4\n",
      "Match 5\n"
     ]
    }
   ],
   "source": [
    "pattern = r\"egg(spam)*\"\n",
    "\n",
    "if re.search(pattern, \"egg\"):\n",
    "    print(\"Match 1\")\n",
    "    \n",
    "if re.search(pattern, \"eggspamspamspamspamegg\"):\n",
    "    print(\"Match 2\")\n",
    "    \n",
    "if re.search(pattern, \"spam\"):\n",
    "    print(\"Match 3\")\n",
    "    \n",
    "if re.search(pattern, \"byeggspam\"):\n",
    "    print(\"Match 4\")\n",
    "\n",
    "if re.search(pattern, \"eggsspambacon\"):\n",
    "    print(\"Match 5\")"
   ]
  },
  {
   "cell_type": "code",
   "execution_count": 3,
   "metadata": {},
   "outputs": [
    {
     "name": "stdout",
     "output_type": "stream",
     "text": [
      "Match 1\n",
      "Match 4\n",
      "Match 5\n",
      "Match 6\n",
      "Match 7\n"
     ]
    }
   ],
   "source": [
    "pattern = r\"[a^]\"\n",
    "\n",
    "if re.search(pattern, \"a\"):\n",
    "    print(\"Match 1\")\n",
    "\n",
    "if re.search(pattern, \"A\"):\n",
    "    print(\"Match 2\")\n",
    "\n",
    "if re.search(pattern, \"0\"):\n",
    "    print(\"Match 3\")\n",
    "    \n",
    "if re.search(pattern, \"abs\"):\n",
    "    print(\"Match 4\")\n",
    "    \n",
    "if re.search(pattern, \"bva\"):\n",
    "    print(\"Match 5\")\n",
    "\n",
    "if re.search(pattern, \"^\"):\n",
    "    print(\"Match 6\")\n",
    "    \n",
    "if re.search(pattern, \"^a\"):\n",
    "    print(\"Match 7\")"
   ]
  }
 ],
 "metadata": {
  "kernelspec": {
   "display_name": "Python 3",
   "language": "python",
   "name": "python3"
  },
  "language_info": {
   "codemirror_mode": {
    "name": "ipython",
    "version": 3
   },
   "file_extension": ".py",
   "mimetype": "text/x-python",
   "name": "python",
   "nbconvert_exporter": "python",
   "pygments_lexer": "ipython3",
   "version": "3.7.3"
  }
 },
 "nbformat": 4,
 "nbformat_minor": 2
}
