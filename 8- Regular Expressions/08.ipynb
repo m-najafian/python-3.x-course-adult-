{
 "cells": [
  {
   "cell_type": "markdown",
   "metadata": {},
   "source": [
    "# Character Classes"
   ]
  },
  {
   "cell_type": "code",
   "execution_count": 1,
   "metadata": {},
   "outputs": [],
   "source": [
    "import re"
   ]
  },
  {
   "cell_type": "code",
   "execution_count": 2,
   "metadata": {},
   "outputs": [
    {
     "name": "stdout",
     "output_type": "stream",
     "text": [
      "Match 1\n",
      "Match 2\n"
     ]
    }
   ],
   "source": [
    "pattern = r\"[aeiou]\"\n",
    "\n",
    "if re.search(pattern, \"gray\"):\n",
    "    print(\"Match 1\")\n",
    "if re.search(pattern, \"grey\"):\n",
    "    print(\"Match 2\")\n",
    "if re.search(pattern, \"rhythm myths np gz\"):\n",
    "    print(\"Match 3\")"
   ]
  },
  {
   "cell_type": "code",
   "execution_count": 3,
   "metadata": {},
   "outputs": [
    {
     "name": "stdout",
     "output_type": "stream",
     "text": [
      "Match 1\n",
      "Match 2\n"
     ]
    }
   ],
   "source": [
    "pattern = r\"gr[aeiou]y\"\n",
    "\n",
    "if re.search(pattern, \"gray\"):\n",
    "    print(\"Match 1\")\n",
    "if re.search(pattern, \"groy\"):\n",
    "    print(\"Match 2\")\n",
    "if re.search(pattern, \"grry\"):\n",
    "    print(\"Match 3\")\n",
    "if re.search(pattern, \"graay\"):\n",
    "    print(\"Match 4\")"
   ]
  }
 ],
 "metadata": {
  "kernelspec": {
   "display_name": "Python 3",
   "language": "python",
   "name": "python3"
  },
  "language_info": {
   "codemirror_mode": {
    "name": "ipython",
    "version": 3
   },
   "file_extension": ".py",
   "mimetype": "text/x-python",
   "name": "python",
   "nbconvert_exporter": "python",
   "pygments_lexer": "ipython3",
   "version": "3.7.3"
  }
 },
 "nbformat": 4,
 "nbformat_minor": 2
}
