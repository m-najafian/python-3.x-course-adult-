{
 "cells": [
  {
   "cell_type": "code",
   "execution_count": 1,
   "metadata": {},
   "outputs": [],
   "source": [
    "import re"
   ]
  },
  {
   "cell_type": "code",
   "execution_count": 2,
   "metadata": {},
   "outputs": [
    {
     "name": "stdout",
     "output_type": "stream",
     "text": [
      "Match 1\n",
      "Match 2\n",
      "Match 3\n"
     ]
    }
   ],
   "source": [
    "pattern = r\"[^A-Z]\" ##any String that is not only Upercase Letters\n",
    "\n",
    "if re.search(pattern, \"how old are you\"):\n",
    "    print(\"Match 1\")\n",
    "\n",
    "if re.search(pattern, \"how old aRe you\"):\n",
    "    print(\"Match 2\")\n",
    "\n",
    "if re.search(pattern, \"AbCdEf123\"):\n",
    "    print(\"Match 3\")\n",
    "\n",
    "if re.search(pattern, \"HOWOLDAREYOU\"):\n",
    "    print(\"Match 4\")"
   ]
  }
 ],
 "metadata": {
  "kernelspec": {
   "display_name": "Python 3",
   "language": "python",
   "name": "python3"
  },
  "language_info": {
   "codemirror_mode": {
    "name": "ipython",
    "version": 3
   },
   "file_extension": ".py",
   "mimetype": "text/x-python",
   "name": "python",
   "nbconvert_exporter": "python",
   "pygments_lexer": "ipython3",
   "version": "3.7.3"
  }
 },
 "nbformat": 4,
 "nbformat_minor": 2
}
