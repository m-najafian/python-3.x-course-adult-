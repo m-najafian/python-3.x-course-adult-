{
 "cells": [
  {
   "cell_type": "markdown",
   "metadata": {},
   "source": [
    "### ^ and $ Metacharacters"
   ]
  },
  {
   "cell_type": "code",
   "execution_count": 1,
   "metadata": {},
   "outputs": [],
   "source": [
    "import re"
   ]
  },
  {
   "cell_type": "code",
   "execution_count": 2,
   "metadata": {},
   "outputs": [
    {
     "name": "stdout",
     "output_type": "stream",
     "text": [
      "match 1\n",
      "match 2\n"
     ]
    }
   ],
   "source": [
    "pattern = \"^gr.y$\"\n",
    "\n",
    "if re.match(pattern, \"gray\"):\n",
    "    print(\"match 1\")\n",
    "\n",
    "if re.match(pattern, \"grey\"):\n",
    "    print(\"match 2\")\n",
    "    \n",
    "if re.match(pattern, \"bluegray\"):\n",
    "    print(\"match 3\")"
   ]
  }
 ],
 "metadata": {
  "kernelspec": {
   "display_name": "Python 3",
   "language": "python",
   "name": "python3"
  },
  "language_info": {
   "codemirror_mode": {
    "name": "ipython",
    "version": 3
   },
   "file_extension": ".py",
   "mimetype": "text/x-python",
   "name": "python",
   "nbconvert_exporter": "python",
   "pygments_lexer": "ipython3",
   "version": "3.7.3"
  }
 },
 "nbformat": 4,
 "nbformat_minor": 2
}
